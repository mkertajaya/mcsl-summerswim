{
 "cells": [
  {
   "attachments": {},
   "cell_type": "markdown",
   "metadata": {},
   "source": [
    "# Processing MCSL summer swimming result"
   ]
  },
  {
   "cell_type": "code",
   "execution_count": 72,
   "metadata": {
    "tags": []
   },
   "outputs": [],
   "source": [
    "from bs4 import BeautifulSoup\n",
    "import csv\n",
    "import os\n",
    "import glob\n",
    "import pandas as pd\n",
    "import re"
   ]
  },
  {
   "cell_type": "code",
   "execution_count": 73,
   "metadata": {
    "tags": []
   },
   "outputs": [],
   "source": [
    "#file/folder\n",
    "htmlbasepath = \"./data/2023/week2\"\n",
    "filename_html = 'ARHvCLM.html'\n",
    "filename_output = filename_html.replace('.html','.csv')\n",
    "\n",
    "htmlpath = os.path.join(htmlbasepath, f'{filename_html}')\n",
    "# print(path)"
   ]
  },
  {
   "cell_type": "code",
   "execution_count": 74,
   "metadata": {
    "tags": []
   },
   "outputs": [],
   "source": [
    "with open(htmlpath, 'r') as f:\n",
    "    contents = f.read()\n",
    "    soup = BeautifulSoup(contents, 'lxml')\n",
    "\n",
    "# print(soup.prettify())"
   ]
  },
  {
   "cell_type": "code",
   "execution_count": 75,
   "metadata": {},
   "outputs": [],
   "source": [
    "htmlfile_list = htmlbasepath.split('/')\n",
    "year = htmlfile_list[2]\n",
    "week = htmlfile_list[3]"
   ]
  },
  {
   "cell_type": "code",
   "execution_count": 76,
   "metadata": {
    "tags": []
   },
   "outputs": [],
   "source": [
    "table = soup.find(\"table\")\n",
    "cols = table.findAll(\"td\")\n",
    "\n",
    "content = []\n",
    "result = []\n",
    "record = []\n",
    "\n",
    "for td in cols:\n",
    "    try:\n",
    "        td.string = td.get_text(strip=True)\n",
    "        string = ''.join(td.find(string=True))\n",
    "        content.append(string)\n",
    "    except: pass\n",
    "\n",
    "\n",
    "#loop the rest\n",
    "for line in content:\n",
    "    if line[0:5] == 'Event':\n",
    "        substring = \"AthleteSeedFinal\"\n",
    "        event = re.split(substring, line)[0]\n",
    "\n",
    "    else:\n",
    "        #start of new record, when it sees rank\n",
    "        if (line[1:2] == '.' and len(line)==2) or (line[2:3] == '.' and len(line) == 3) or (line[2:3] == 'T' and len(line) == 4): #T is for tie\n",
    "            if result:\n",
    "                record.append(result)\n",
    "                result = []\n",
    "            result.append(year)\n",
    "            result.append(week)\n",
    "            result.append(event)\n",
    "            result.append(line)\n",
    "        else:\n",
    "            result.append(line)\n",
    "\n"
   ]
  },
  {
   "cell_type": "code",
   "execution_count": 77,
   "metadata": {
    "tags": []
   },
   "outputs": [],
   "source": [
    "#take out relay record,\n",
    "individual_record = []\n",
    "for l in record:\n",
    "    if 'Relay' not in l[2]: #third element on the list is where the event is located\n",
    "        #print(l)|\n",
    "        individual_record.append(l)\n",
    "        "
   ]
  },
  {
   "cell_type": "code",
   "execution_count": 78,
   "metadata": {},
   "outputs": [],
   "source": [
    "df = pd.DataFrame(individual_record, columns =['year', 'week', 'event', 'rank', 'swimmer', 'seed', 'final']) "
   ]
  },
  {
   "cell_type": "code",
   "execution_count": 79,
   "metadata": {},
   "outputs": [
    {
     "data": {
      "text/plain": [
       "0       Sunjaya, Brian A (10) (ARH)\n",
       "1            Tang, Kevin (12) (CLM)\n",
       "2         Chen, Joseph S (10) (CLM)\n",
       "3           Yi, Bradyn Y (11) (CLM)\n",
       "4           Peter, Kidus (12) (ARH)\n",
       "                   ...             \n",
       "295          Kim, Conrad (15) (ARH)\n",
       "296        Crown, Ella A (15) (CLM)\n",
       "297       Lee, Juliana J (16) (CLM)\n",
       "298    Stoudt, Kaitlyn E (17) (CLM)\n",
       "299          Wong, Lydia (17) (ARH)\n",
       "Name: swimmer, Length: 300, dtype: object"
      ]
     },
     "execution_count": 79,
     "metadata": {},
     "output_type": "execute_result"
    }
   ],
   "source": [
    "df['swimmer']"
   ]
  },
  {
   "cell_type": "code",
   "execution_count": 80,
   "metadata": {},
   "outputs": [],
   "source": [
    "#special handling for swimmer with () on its name\n",
    "df['swimmer'] = df['swimmer'].apply(lambda x:x.replace('(Dan)', '- Dan'))\n",
    "df['swimmer'] = df['swimmer'].apply(lambda x:x.replace('(Ben)', '- Ben'))\n",
    "df['swimmer'] = df['swimmer'].apply(lambda x:x.replace('(Jojo)', '- Jojo'))\n",
    "df['swimmer'] = df['swimmer'].apply(lambda x:x.replace('(Jorie)', '- Jorie'))\n",
    "\n",
    "\n",
    "\n",
    "\n",
    "#splitting swimmer colunn into 3\n",
    "df[['swimmer_name', 'swimmer_age', 'swimmer_team']] = df['swimmer'].str.split(pat='(', expand=True, n=2)\n",
    "\n",
    "# #dropping progoma; swimmer column\n",
    "# del df['swimmer']"
   ]
  },
  {
   "cell_type": "code",
   "execution_count": 81,
   "metadata": {},
   "outputs": [],
   "source": [
    "# #replace function\n",
    "# def replace_enhanced(x):\n",
    "#     if x is None:\n",
    "#         return(x)\n",
    "#     else:\n",
    "#         x.replace(')','')\n",
    "#         return(x)\n",
    "    \n",
    "#remove ')' from age and team\n",
    "df['swimmer_age'] = df['swimmer_age'].apply(lambda x:x.replace(')', ''))\n",
    "df['swimmer_team'] = df['swimmer_team'].apply(lambda x:x.replace(')', ''))\n"
   ]
  },
  {
   "cell_type": "code",
   "execution_count": 82,
   "metadata": {},
   "outputs": [],
   "source": [
    "# #add seconds for seed and final\n",
    "# x = '34.88'\n",
    "# x_list = x.split(':')\n",
    "\n",
    "# time_list = x.split(':')\n",
    "# seconds = float(time_list[0])*60 + float(time_list[1])\n",
    "# print(seconds)\n",
    "\n",
    "\n",
    "def x_to_seconds(x):\n",
    "    x = x.replace('X', '') #replacing exibition time\n",
    "    x_list = x.split(':')\n",
    "    if x in ('NT', 'NS', 'DQ', 'DNF'):  # ignore NT, NS, DQ, and DNF\n",
    "        return(x)\n",
    "    elif len(x_list) == 1: #only seconds no minutes\n",
    "         return(float(x_list[0]))\n",
    "    else:\n",
    "        return(float(x_list[0])*60 + float(x_list[1]))\n",
    "# x_to_seconds(x)\n",
    "\n",
    "\n",
    "df['seed_seconds'] = df['seed'].apply(lambda x:x_to_seconds(x))\n",
    "df['final_seconds'] = df['final'].apply(lambda x:x_to_seconds(x))\n",
    "\n"
   ]
  },
  {
   "cell_type": "code",
   "execution_count": 83,
   "metadata": {},
   "outputs": [],
   "source": [
    "#get event number\n",
    "df['event_no'] = df['event'].apply(lambda x:x.split('-')[0].replace('Event ', ''))\n"
   ]
  },
  {
   "cell_type": "code",
   "execution_count": 84,
   "metadata": {},
   "outputs": [
    {
     "data": {
      "text/html": [
       "<div>\n",
       "<style scoped>\n",
       "    .dataframe tbody tr th:only-of-type {\n",
       "        vertical-align: middle;\n",
       "    }\n",
       "\n",
       "    .dataframe tbody tr th {\n",
       "        vertical-align: top;\n",
       "    }\n",
       "\n",
       "    .dataframe thead th {\n",
       "        text-align: right;\n",
       "    }\n",
       "</style>\n",
       "<table border=\"1\" class=\"dataframe\">\n",
       "  <thead>\n",
       "    <tr style=\"text-align: right;\">\n",
       "      <th></th>\n",
       "      <th>0</th>\n",
       "      <th>1</th>\n",
       "    </tr>\n",
       "  </thead>\n",
       "  <tbody>\n",
       "    <tr>\n",
       "      <th>year</th>\n",
       "      <td>2023</td>\n",
       "      <td>2023</td>\n",
       "    </tr>\n",
       "    <tr>\n",
       "      <th>week</th>\n",
       "      <td>week2</td>\n",
       "      <td>week2</td>\n",
       "    </tr>\n",
       "    <tr>\n",
       "      <th>event</th>\n",
       "      <td>Event 1 - Boys 12U 100M Individual Medley</td>\n",
       "      <td>Event 1 - Boys 12U 100M Individual Medley</td>\n",
       "    </tr>\n",
       "    <tr>\n",
       "      <th>rank</th>\n",
       "      <td>1.</td>\n",
       "      <td>2.</td>\n",
       "    </tr>\n",
       "    <tr>\n",
       "      <th>swimmer</th>\n",
       "      <td>Sunjaya, Brian A (10) (ARH)</td>\n",
       "      <td>Tang, Kevin (12) (CLM)</td>\n",
       "    </tr>\n",
       "    <tr>\n",
       "      <th>seed</th>\n",
       "      <td>1:19.19</td>\n",
       "      <td>1:29.38</td>\n",
       "    </tr>\n",
       "    <tr>\n",
       "      <th>final</th>\n",
       "      <td>1:18.09</td>\n",
       "      <td>1:28.70</td>\n",
       "    </tr>\n",
       "    <tr>\n",
       "      <th>swimmer_name</th>\n",
       "      <td>Sunjaya, Brian A</td>\n",
       "      <td>Tang, Kevin</td>\n",
       "    </tr>\n",
       "    <tr>\n",
       "      <th>swimmer_age</th>\n",
       "      <td>10</td>\n",
       "      <td>12</td>\n",
       "    </tr>\n",
       "    <tr>\n",
       "      <th>swimmer_team</th>\n",
       "      <td>ARH</td>\n",
       "      <td>CLM</td>\n",
       "    </tr>\n",
       "    <tr>\n",
       "      <th>seed_seconds</th>\n",
       "      <td>79.19</td>\n",
       "      <td>89.38</td>\n",
       "    </tr>\n",
       "    <tr>\n",
       "      <th>final_seconds</th>\n",
       "      <td>78.09</td>\n",
       "      <td>88.7</td>\n",
       "    </tr>\n",
       "    <tr>\n",
       "      <th>event_no</th>\n",
       "      <td>1</td>\n",
       "      <td>1</td>\n",
       "    </tr>\n",
       "  </tbody>\n",
       "</table>\n",
       "</div>"
      ],
      "text/plain": [
       "                                                       0  \\\n",
       "year                                                2023   \n",
       "week                                               week2   \n",
       "event          Event 1 - Boys 12U 100M Individual Medley   \n",
       "rank                                                  1.   \n",
       "swimmer                      Sunjaya, Brian A (10) (ARH)   \n",
       "seed                                             1:19.19   \n",
       "final                                            1:18.09   \n",
       "swimmer_name                           Sunjaya, Brian A    \n",
       "swimmer_age                                          10    \n",
       "swimmer_team                                         ARH   \n",
       "seed_seconds                                       79.19   \n",
       "final_seconds                                      78.09   \n",
       "event_no                                              1    \n",
       "\n",
       "                                                       1  \n",
       "year                                                2023  \n",
       "week                                               week2  \n",
       "event          Event 1 - Boys 12U 100M Individual Medley  \n",
       "rank                                                  2.  \n",
       "swimmer                           Tang, Kevin (12) (CLM)  \n",
       "seed                                             1:29.38  \n",
       "final                                            1:28.70  \n",
       "swimmer_name                                Tang, Kevin   \n",
       "swimmer_age                                          12   \n",
       "swimmer_team                                         CLM  \n",
       "seed_seconds                                       89.38  \n",
       "final_seconds                                       88.7  \n",
       "event_no                                              1   "
      ]
     },
     "execution_count": 84,
     "metadata": {},
     "output_type": "execute_result"
    }
   ],
   "source": [
    "df.head(2).T"
   ]
  },
  {
   "cell_type": "code",
   "execution_count": 85,
   "metadata": {},
   "outputs": [
    {
     "data": {
      "text/html": [
       "<div>\n",
       "<style scoped>\n",
       "    .dataframe tbody tr th:only-of-type {\n",
       "        vertical-align: middle;\n",
       "    }\n",
       "\n",
       "    .dataframe tbody tr th {\n",
       "        vertical-align: top;\n",
       "    }\n",
       "\n",
       "    .dataframe thead th {\n",
       "        text-align: right;\n",
       "    }\n",
       "</style>\n",
       "<table border=\"1\" class=\"dataframe\">\n",
       "  <thead>\n",
       "    <tr style=\"text-align: right;\">\n",
       "      <th></th>\n",
       "      <th>year</th>\n",
       "      <th>week</th>\n",
       "      <th>event</th>\n",
       "      <th>rank</th>\n",
       "      <th>swimmer</th>\n",
       "      <th>seed</th>\n",
       "      <th>final</th>\n",
       "      <th>swimmer_name</th>\n",
       "      <th>swimmer_age</th>\n",
       "      <th>swimmer_team</th>\n",
       "      <th>seed_seconds</th>\n",
       "      <th>final_seconds</th>\n",
       "      <th>event_no</th>\n",
       "    </tr>\n",
       "  </thead>\n",
       "  <tbody>\n",
       "    <tr>\n",
       "      <th>295</th>\n",
       "      <td>2023</td>\n",
       "      <td>week2</td>\n",
       "      <td>Event 47 - Boys 15-18 50M Butterfly</td>\n",
       "      <td>6.</td>\n",
       "      <td>Kim, Conrad (15) (ARH)</td>\n",
       "      <td>38.73</td>\n",
       "      <td>39.47</td>\n",
       "      <td>Kim, Conrad</td>\n",
       "      <td>15</td>\n",
       "      <td>ARH</td>\n",
       "      <td>38.73</td>\n",
       "      <td>39.47</td>\n",
       "      <td>47</td>\n",
       "    </tr>\n",
       "    <tr>\n",
       "      <th>296</th>\n",
       "      <td>2023</td>\n",
       "      <td>week2</td>\n",
       "      <td>Event 48 - Girls 15-18 50M Butterfly</td>\n",
       "      <td>1.</td>\n",
       "      <td>Crown, Ella A (15) (CLM)</td>\n",
       "      <td>31.62</td>\n",
       "      <td>32.78</td>\n",
       "      <td>Crown, Ella A</td>\n",
       "      <td>15</td>\n",
       "      <td>CLM</td>\n",
       "      <td>31.62</td>\n",
       "      <td>32.78</td>\n",
       "      <td>48</td>\n",
       "    </tr>\n",
       "    <tr>\n",
       "      <th>297</th>\n",
       "      <td>2023</td>\n",
       "      <td>week2</td>\n",
       "      <td>Event 48 - Girls 15-18 50M Butterfly</td>\n",
       "      <td>2.</td>\n",
       "      <td>Lee, Juliana J (16) (CLM)</td>\n",
       "      <td>33.01</td>\n",
       "      <td>34.27</td>\n",
       "      <td>Lee, Juliana J</td>\n",
       "      <td>16</td>\n",
       "      <td>CLM</td>\n",
       "      <td>33.01</td>\n",
       "      <td>34.27</td>\n",
       "      <td>48</td>\n",
       "    </tr>\n",
       "    <tr>\n",
       "      <th>298</th>\n",
       "      <td>2023</td>\n",
       "      <td>week2</td>\n",
       "      <td>Event 48 - Girls 15-18 50M Butterfly</td>\n",
       "      <td>3.</td>\n",
       "      <td>Stoudt, Kaitlyn E (17) (CLM)</td>\n",
       "      <td>33.06</td>\n",
       "      <td>34.81</td>\n",
       "      <td>Stoudt, Kaitlyn E</td>\n",
       "      <td>17</td>\n",
       "      <td>CLM</td>\n",
       "      <td>33.06</td>\n",
       "      <td>34.81</td>\n",
       "      <td>48</td>\n",
       "    </tr>\n",
       "    <tr>\n",
       "      <th>299</th>\n",
       "      <td>2023</td>\n",
       "      <td>week2</td>\n",
       "      <td>Event 48 - Girls 15-18 50M Butterfly</td>\n",
       "      <td>4.</td>\n",
       "      <td>Wong, Lydia (17) (ARH)</td>\n",
       "      <td>36.97</td>\n",
       "      <td>37.25</td>\n",
       "      <td>Wong, Lydia</td>\n",
       "      <td>17</td>\n",
       "      <td>ARH</td>\n",
       "      <td>36.97</td>\n",
       "      <td>37.25</td>\n",
       "      <td>48</td>\n",
       "    </tr>\n",
       "  </tbody>\n",
       "</table>\n",
       "</div>"
      ],
      "text/plain": [
       "     year   week                                 event rank  \\\n",
       "295  2023  week2   Event 47 - Boys 15-18 50M Butterfly   6.   \n",
       "296  2023  week2  Event 48 - Girls 15-18 50M Butterfly   1.   \n",
       "297  2023  week2  Event 48 - Girls 15-18 50M Butterfly   2.   \n",
       "298  2023  week2  Event 48 - Girls 15-18 50M Butterfly   3.   \n",
       "299  2023  week2  Event 48 - Girls 15-18 50M Butterfly   4.   \n",
       "\n",
       "                          swimmer   seed  final        swimmer_name  \\\n",
       "295        Kim, Conrad (15) (ARH)  38.73  39.47        Kim, Conrad    \n",
       "296      Crown, Ella A (15) (CLM)  31.62  32.78      Crown, Ella A    \n",
       "297     Lee, Juliana J (16) (CLM)  33.01  34.27     Lee, Juliana J    \n",
       "298  Stoudt, Kaitlyn E (17) (CLM)  33.06  34.81  Stoudt, Kaitlyn E    \n",
       "299        Wong, Lydia (17) (ARH)  36.97  37.25        Wong, Lydia    \n",
       "\n",
       "    swimmer_age swimmer_team seed_seconds final_seconds event_no  \n",
       "295         15           ARH        38.73         39.47      47   \n",
       "296         15           CLM        31.62         32.78      48   \n",
       "297         16           CLM        33.01         34.27      48   \n",
       "298         17           CLM        33.06         34.81      48   \n",
       "299         17           ARH        36.97         37.25      48   "
      ]
     },
     "execution_count": 85,
     "metadata": {},
     "output_type": "execute_result"
    }
   ],
   "source": [
    "df.tail()"
   ]
  },
  {
   "cell_type": "code",
   "execution_count": 86,
   "metadata": {},
   "outputs": [],
   "source": [
    "#export to csv with | delimited\n",
    "df.to_csv(filename_output,sep='|', index=False) # Use pipe to seperate data\n"
   ]
  },
  {
   "cell_type": "code",
   "execution_count": 87,
   "metadata": {},
   "outputs": [
    {
     "data": {
      "text/plain": [
       "swimmer_age  swimmer_team\n",
       "10           ARH             22\n",
       "             CLM             19\n",
       "11           ARH             19\n",
       "             CLM             10\n",
       "12           ARH             11\n",
       "             CLM             15\n",
       "13           ARH             26\n",
       "             CLM             16\n",
       "14           ARH             10\n",
       "             CLM             19\n",
       "15           ARH             21\n",
       "             CLM              5\n",
       "16           CLM             12\n",
       "17           ARH              4\n",
       "             CLM             13\n",
       "18           CLM              4\n",
       "6            ARH              3\n",
       "             CLM              3\n",
       "7            ARH             10\n",
       "             CLM              6\n",
       "8            ARH             14\n",
       "             CLM             18\n",
       "9            ARH             11\n",
       "             CLM              9\n",
       "Name: swimmer_name, dtype: int64"
      ]
     },
     "execution_count": 87,
     "metadata": {},
     "output_type": "execute_result"
    }
   ],
   "source": [
    "#counting swimmer by team/age\n",
    "df.groupby(['swimmer_age', 'swimmer_team'])['swimmer_name'].count()"
   ]
  },
  {
   "cell_type": "code",
   "execution_count": null,
   "metadata": {},
   "outputs": [],
   "source": []
  }
 ],
 "metadata": {
  "kernelspec": {
   "display_name": "Python 3",
   "language": "python",
   "name": "python3"
  },
  "language_info": {
   "codemirror_mode": {
    "name": "ipython",
    "version": 3
   },
   "file_extension": ".py",
   "mimetype": "text/x-python",
   "name": "python",
   "nbconvert_exporter": "python",
   "pygments_lexer": "ipython3",
   "version": "3.10.13"
  }
 },
 "nbformat": 4,
 "nbformat_minor": 2
}
