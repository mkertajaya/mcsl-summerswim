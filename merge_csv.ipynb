{
 "cells": [
  {
   "cell_type": "code",
   "execution_count": 1,
   "metadata": {},
   "outputs": [],
   "source": [
    "import csv\n",
    "import glob\n",
    "import pandas as pd"
   ]
  },
  {
   "cell_type": "code",
   "execution_count": 2,
   "metadata": {},
   "outputs": [],
   "source": [
    "year = '2016'\n",
    "week = 'week6'\n",
    "#file/folder\n",
    "csvfolder = f\"./data/{year}/{week}/*.csv\"\n",
    "outputcsvfolder =  f\"./data/{year}_{week}.csv\"\n",
    "\n",
    "#list csv files\n",
    "csv_files = glob.glob(csvfolder)\n",
    "    # print(path)\n",
    "\n",
    "df_concat = pd.concat([pd.read_csv(path,  sep = '|') for path in csv_files ], ignore_index=True)\n",
    "\n",
    "#export to csv with | delimited\n",
    "df_concat.to_csv(outputcsvfolder,sep='|', index=False) # Use pipe to seperate data"
   ]
  },
  {
   "cell_type": "code",
   "execution_count": 120,
   "metadata": {},
   "outputs": [
    {
     "name": "stdout",
     "output_type": "stream",
     "text": [
      "<class 'pandas.core.frame.DataFrame'>\n",
      "RangeIndex: 6920 entries, 0 to 6919\n",
      "Data columns (total 13 columns):\n",
      " #   Column         Non-Null Count  Dtype \n",
      "---  ------         --------------  ----- \n",
      " 0   year           6920 non-null   int64 \n",
      " 1   week           6920 non-null   object\n",
      " 2   event          6920 non-null   object\n",
      " 3   rank           6920 non-null   object\n",
      " 4   swimmer        6920 non-null   object\n",
      " 5   seed           6920 non-null   object\n",
      " 6   final          6920 non-null   object\n",
      " 7   swimmer_name   6920 non-null   object\n",
      " 8   swimmer_age    6920 non-null   int64 \n",
      " 9   swimmer_team   6920 non-null   object\n",
      " 10  seed_seconds   6920 non-null   object\n",
      " 11  final_seconds  6920 non-null   object\n",
      " 12  event_no       6920 non-null   int64 \n",
      "dtypes: int64(3), object(10)\n",
      "memory usage: 702.9+ KB\n"
     ]
    }
   ],
   "source": [
    "df_concat.info()"
   ]
  },
  {
   "cell_type": "code",
   "execution_count": null,
   "metadata": {},
   "outputs": [],
   "source": []
  }
 ],
 "metadata": {
  "kernelspec": {
   "display_name": "base",
   "language": "python",
   "name": "python3"
  },
  "language_info": {
   "codemirror_mode": {
    "name": "ipython",
    "version": 3
   },
   "file_extension": ".py",
   "mimetype": "text/x-python",
   "name": "python",
   "nbconvert_exporter": "python",
   "pygments_lexer": "ipython3",
   "version": "3.10.10"
  },
  "orig_nbformat": 4
 },
 "nbformat": 4,
 "nbformat_minor": 2
}
