{
 "cells": [
  {
   "attachments": {},
   "cell_type": "markdown",
   "metadata": {},
   "source": [
    "# Processing MCSL summer swimming result"
   ]
  },
  {
   "cell_type": "code",
   "execution_count": 282,
   "metadata": {
    "tags": []
   },
   "outputs": [],
   "source": [
    "from bs4 import BeautifulSoup\n",
    "import csv\n",
    "import os\n",
    "import glob\n",
    "import pandas as pd"
   ]
  },
  {
   "cell_type": "code",
   "execution_count": 283,
   "metadata": {
    "tags": []
   },
   "outputs": [],
   "source": [
    "#file/folder\n",
    "htmlbasepath = \"./data/2023/week1\"\n",
    "filename_html = 'OFvRH.html'\n",
    "filename_output = filename_html.replace('.html','.csv')\n",
    "\n",
    "htmlpath = os.path.join(htmlbasepath, f'{filename_html}')\n",
    "# print(path)"
   ]
  },
  {
   "cell_type": "code",
   "execution_count": 284,
   "metadata": {
    "tags": []
   },
   "outputs": [],
   "source": [
    "with open(htmlpath, 'r') as f:\n",
    "    contents = f.read()\n",
    "    soup = BeautifulSoup(contents, 'lxml')\n",
    "\n",
    "# print(soup.prettify())"
   ]
  },
  {
   "cell_type": "code",
   "execution_count": 285,
   "metadata": {},
   "outputs": [],
   "source": [
    "htmlfile_list = htmlbasepath.split('/')\n",
    "year = htmlfile_list[2]\n",
    "week = htmlfile_list[3]"
   ]
  },
  {
   "cell_type": "code",
   "execution_count": 286,
   "metadata": {
    "tags": []
   },
   "outputs": [],
   "source": [
    "table = soup.find(\"table\")\n",
    "cols = table.findAll(\"td\")\n",
    "\n",
    "content = []\n",
    "result = []\n",
    "record = []\n",
    "\n",
    "for td in cols:\n",
    "    try:\n",
    "        string = ''.join(td.find(string=True))\n",
    "        content.append(string)\n",
    "    except: pass\n",
    "\n",
    "event = content[0]\n",
    "\n",
    "#loop the rest\n",
    "for line in content:\n",
    "    if line[0:5] == 'Event':\n",
    "        event = line\n",
    "    else:\n",
    "        #start of new record, when it sees rank\n",
    "        if (line[1:2] == '.' and len(line)==2) or (line[2:3] == '.' and len(line) == 3) or (line[2:3] == 'T' and len(line) == 4): #T is for tie\n",
    "            if result:\n",
    "                record.append(result)\n",
    "                result = []\n",
    "            result.append(year)\n",
    "            result.append(week)\n",
    "            result.append(event)\n",
    "            result.append(line)\n",
    "        else:\n",
    "            result.append(line)\n",
    "\n"
   ]
  },
  {
   "cell_type": "code",
   "execution_count": 287,
   "metadata": {
    "tags": []
   },
   "outputs": [],
   "source": [
    "#take out relay record,\n",
    "individual_record = []\n",
    "for l in record:\n",
    "    if 'Relay' not in l[2]: #third element on the list is where the event is located\n",
    "        #print(l)\n",
    "        individual_record.append(l)\n",
    "        "
   ]
  },
  {
   "cell_type": "code",
   "execution_count": 288,
   "metadata": {},
   "outputs": [],
   "source": [
    "# for rec in individual_record:\n",
    "#     if len(rec) > 7:\n",
    "#         print(rec)"
   ]
  },
  {
   "cell_type": "code",
   "execution_count": 289,
   "metadata": {},
   "outputs": [],
   "source": [
    "df = pd.DataFrame(individual_record, columns =['year', 'week', 'event', 'rank', 'swimmer', 'seed', 'final']) "
   ]
  },
  {
   "cell_type": "code",
   "execution_count": 290,
   "metadata": {},
   "outputs": [
    {
     "data": {
      "text/plain": [
       "0            Cohn, Naveh N (12) (OF)\n",
       "1           Fry, Patrick M (12) (RH)\n",
       "2            Fry, Daniel P (10) (RH)\n",
       "3       Humphreys, Colby R (11) (OF)\n",
       "4       Humphreys, Chase P (11) (OF)\n",
       "                   ...              \n",
       "330         Bingley, Hanna (17) (OF)\n",
       "331       Owings, Hannah E (18) (RH)\n",
       "332       Linkie, Sophie M (15) (OF)\n",
       "333    Kleckner, Marissa J (18) (RH)\n",
       "334        Costa, Sophia F (17) (RH)\n",
       "Name: swimmer, Length: 335, dtype: object"
      ]
     },
     "execution_count": 290,
     "metadata": {},
     "output_type": "execute_result"
    }
   ],
   "source": [
    "df['swimmer']"
   ]
  },
  {
   "cell_type": "code",
   "execution_count": 291,
   "metadata": {},
   "outputs": [],
   "source": [
    "#special handling for swimmer with () on its name\n",
    "df['swimmer'] = df['swimmer'].apply(lambda x:x.replace('(Dan)', '- Dan'))\n",
    "df['swimmer'] = df['swimmer'].apply(lambda x:x.replace('(Ben)', '- Ben'))\n",
    "df['swimmer'] = df['swimmer'].apply(lambda x:x.replace('(Jojo)', '- Jojo'))\n",
    "df['swimmer'] = df['swimmer'].apply(lambda x:x.replace('(Jorie)', '- Jorie'))\n",
    "\n",
    "\n",
    "\n",
    "\n",
    "#splitting swimmer colunn into 3\n",
    "df[['swimmer_name', 'swimmer_age', 'swimmer_team']] = df['swimmer'].str.split(pat='(', expand=True, n=2)\n",
    "\n",
    "# #dropping progoma; swimmer column\n",
    "# del df['swimmer']"
   ]
  },
  {
   "cell_type": "code",
   "execution_count": 292,
   "metadata": {},
   "outputs": [],
   "source": [
    "# #replace function\n",
    "# def replace_enhanced(x):\n",
    "#     if x is None:\n",
    "#         return(x)\n",
    "#     else:\n",
    "#         x.replace(')','')\n",
    "#         return(x)\n",
    "    \n",
    "#remove ')' from age and team\n",
    "df['swimmer_age'] = df['swimmer_age'].apply(lambda x:x.replace(')', ''))\n",
    "df['swimmer_team'] = df['swimmer_team'].apply(lambda x:x.replace(')', ''))\n"
   ]
  },
  {
   "cell_type": "code",
   "execution_count": 293,
   "metadata": {},
   "outputs": [],
   "source": [
    "# #add seconds for seed and final\n",
    "# x = '34.88'\n",
    "# x_list = x.split(':')\n",
    "\n",
    "# time_list = x.split(':')\n",
    "# seconds = float(time_list[0])*60 + float(time_list[1])\n",
    "# print(seconds)\n",
    "\n",
    "\n",
    "def x_to_seconds(x):\n",
    "    x = x.replace('X', '') #replacing exibition time\n",
    "    x_list = x.split(':')\n",
    "    if x in ('NT', 'NS', 'DQ', 'DNF'):  # ignore NT, NS, DQ, and DNF\n",
    "        return(x)\n",
    "    elif len(x_list) == 1: #only seconds no minutes\n",
    "         return(float(x_list[0]))\n",
    "    else:\n",
    "        return(float(x_list[0])*60 + float(x_list[1]))\n",
    "# x_to_seconds(x)\n",
    "\n",
    "\n",
    "df['seed_seconds'] = df['seed'].apply(lambda x:x_to_seconds(x))\n",
    "df['final_seconds'] = df['final'].apply(lambda x:x_to_seconds(x))\n",
    "\n"
   ]
  },
  {
   "cell_type": "code",
   "execution_count": 294,
   "metadata": {},
   "outputs": [],
   "source": [
    "#get event number\n",
    "df['event_no'] = df['event'].apply(lambda x:x.split('-')[0].replace('Event ', ''))\n"
   ]
  },
  {
   "cell_type": "code",
   "execution_count": 295,
   "metadata": {},
   "outputs": [
    {
     "data": {
      "text/html": [
       "<div>\n",
       "<style scoped>\n",
       "    .dataframe tbody tr th:only-of-type {\n",
       "        vertical-align: middle;\n",
       "    }\n",
       "\n",
       "    .dataframe tbody tr th {\n",
       "        vertical-align: top;\n",
       "    }\n",
       "\n",
       "    .dataframe thead th {\n",
       "        text-align: right;\n",
       "    }\n",
       "</style>\n",
       "<table border=\"1\" class=\"dataframe\">\n",
       "  <thead>\n",
       "    <tr style=\"text-align: right;\">\n",
       "      <th></th>\n",
       "      <th>0</th>\n",
       "      <th>1</th>\n",
       "    </tr>\n",
       "  </thead>\n",
       "  <tbody>\n",
       "    <tr>\n",
       "      <th>year</th>\n",
       "      <td>2021</td>\n",
       "      <td>2021</td>\n",
       "    </tr>\n",
       "    <tr>\n",
       "      <th>week</th>\n",
       "      <td>week5</td>\n",
       "      <td>week5</td>\n",
       "    </tr>\n",
       "    <tr>\n",
       "      <th>event</th>\n",
       "      <td>Event 1 - Boys 12U 100M Individual Medley</td>\n",
       "      <td>Event 1 - Boys 12U 100M Individual Medley</td>\n",
       "    </tr>\n",
       "    <tr>\n",
       "      <th>rank</th>\n",
       "      <td>1.</td>\n",
       "      <td>2.</td>\n",
       "    </tr>\n",
       "    <tr>\n",
       "      <th>swimmer</th>\n",
       "      <td>Cohn, Naveh N (12) (OF)</td>\n",
       "      <td>Fry, Patrick M (12) (RH)</td>\n",
       "    </tr>\n",
       "    <tr>\n",
       "      <th>seed</th>\n",
       "      <td>1:14.40</td>\n",
       "      <td>1:21.94</td>\n",
       "    </tr>\n",
       "    <tr>\n",
       "      <th>final</th>\n",
       "      <td>1:13.46</td>\n",
       "      <td>1:21.41</td>\n",
       "    </tr>\n",
       "    <tr>\n",
       "      <th>swimmer_name</th>\n",
       "      <td>Cohn, Naveh N</td>\n",
       "      <td>Fry, Patrick M</td>\n",
       "    </tr>\n",
       "    <tr>\n",
       "      <th>swimmer_age</th>\n",
       "      <td>12</td>\n",
       "      <td>12</td>\n",
       "    </tr>\n",
       "    <tr>\n",
       "      <th>swimmer_team</th>\n",
       "      <td>OF</td>\n",
       "      <td>RH</td>\n",
       "    </tr>\n",
       "    <tr>\n",
       "      <th>seed_seconds</th>\n",
       "      <td>74.4</td>\n",
       "      <td>81.94</td>\n",
       "    </tr>\n",
       "    <tr>\n",
       "      <th>final_seconds</th>\n",
       "      <td>73.46</td>\n",
       "      <td>81.41</td>\n",
       "    </tr>\n",
       "    <tr>\n",
       "      <th>event_no</th>\n",
       "      <td>1</td>\n",
       "      <td>1</td>\n",
       "    </tr>\n",
       "  </tbody>\n",
       "</table>\n",
       "</div>"
      ],
      "text/plain": [
       "                                                       0   \n",
       "year                                                2021  \\\n",
       "week                                               week5   \n",
       "event          Event 1 - Boys 12U 100M Individual Medley   \n",
       "rank                                                  1.   \n",
       "swimmer                          Cohn, Naveh N (12) (OF)   \n",
       "seed                                             1:14.40   \n",
       "final                                            1:13.46   \n",
       "swimmer_name                              Cohn, Naveh N    \n",
       "swimmer_age                                          12    \n",
       "swimmer_team                                          OF   \n",
       "seed_seconds                                        74.4   \n",
       "final_seconds                                      73.46   \n",
       "event_no                                              1    \n",
       "\n",
       "                                                       1  \n",
       "year                                                2021  \n",
       "week                                               week5  \n",
       "event          Event 1 - Boys 12U 100M Individual Medley  \n",
       "rank                                                  2.  \n",
       "swimmer                         Fry, Patrick M (12) (RH)  \n",
       "seed                                             1:21.94  \n",
       "final                                            1:21.41  \n",
       "swimmer_name                             Fry, Patrick M   \n",
       "swimmer_age                                          12   \n",
       "swimmer_team                                          RH  \n",
       "seed_seconds                                       81.94  \n",
       "final_seconds                                      81.41  \n",
       "event_no                                              1   "
      ]
     },
     "execution_count": 295,
     "metadata": {},
     "output_type": "execute_result"
    }
   ],
   "source": [
    "df.head(2).T"
   ]
  },
  {
   "cell_type": "code",
   "execution_count": 296,
   "metadata": {},
   "outputs": [
    {
     "data": {
      "text/html": [
       "<div>\n",
       "<style scoped>\n",
       "    .dataframe tbody tr th:only-of-type {\n",
       "        vertical-align: middle;\n",
       "    }\n",
       "\n",
       "    .dataframe tbody tr th {\n",
       "        vertical-align: top;\n",
       "    }\n",
       "\n",
       "    .dataframe thead th {\n",
       "        text-align: right;\n",
       "    }\n",
       "</style>\n",
       "<table border=\"1\" class=\"dataframe\">\n",
       "  <thead>\n",
       "    <tr style=\"text-align: right;\">\n",
       "      <th></th>\n",
       "      <th>year</th>\n",
       "      <th>week</th>\n",
       "      <th>event</th>\n",
       "      <th>rank</th>\n",
       "      <th>swimmer</th>\n",
       "      <th>seed</th>\n",
       "      <th>final</th>\n",
       "      <th>swimmer_name</th>\n",
       "      <th>swimmer_age</th>\n",
       "      <th>swimmer_team</th>\n",
       "      <th>seed_seconds</th>\n",
       "      <th>final_seconds</th>\n",
       "      <th>event_no</th>\n",
       "    </tr>\n",
       "  </thead>\n",
       "  <tbody>\n",
       "    <tr>\n",
       "      <th>0</th>\n",
       "      <td>2021</td>\n",
       "      <td>week5</td>\n",
       "      <td>Event 1 - Boys 12U 100M Individual Medley</td>\n",
       "      <td>1.</td>\n",
       "      <td>Cohn, Naveh N (12) (OF)</td>\n",
       "      <td>1:14.40</td>\n",
       "      <td>1:13.46</td>\n",
       "      <td>Cohn, Naveh N</td>\n",
       "      <td>12</td>\n",
       "      <td>OF</td>\n",
       "      <td>74.4</td>\n",
       "      <td>73.46</td>\n",
       "      <td>1</td>\n",
       "    </tr>\n",
       "    <tr>\n",
       "      <th>1</th>\n",
       "      <td>2021</td>\n",
       "      <td>week5</td>\n",
       "      <td>Event 1 - Boys 12U 100M Individual Medley</td>\n",
       "      <td>2.</td>\n",
       "      <td>Fry, Patrick M (12) (RH)</td>\n",
       "      <td>1:21.94</td>\n",
       "      <td>1:21.41</td>\n",
       "      <td>Fry, Patrick M</td>\n",
       "      <td>12</td>\n",
       "      <td>RH</td>\n",
       "      <td>81.94</td>\n",
       "      <td>81.41</td>\n",
       "      <td>1</td>\n",
       "    </tr>\n",
       "    <tr>\n",
       "      <th>2</th>\n",
       "      <td>2021</td>\n",
       "      <td>week5</td>\n",
       "      <td>Event 1 - Boys 12U 100M Individual Medley</td>\n",
       "      <td>3.</td>\n",
       "      <td>Fry, Daniel P (10) (RH)</td>\n",
       "      <td>1:23.62</td>\n",
       "      <td>1:21.75</td>\n",
       "      <td>Fry, Daniel P</td>\n",
       "      <td>10</td>\n",
       "      <td>RH</td>\n",
       "      <td>83.62</td>\n",
       "      <td>81.75</td>\n",
       "      <td>1</td>\n",
       "    </tr>\n",
       "    <tr>\n",
       "      <th>3</th>\n",
       "      <td>2021</td>\n",
       "      <td>week5</td>\n",
       "      <td>Event 1 - Boys 12U 100M Individual Medley</td>\n",
       "      <td>4.</td>\n",
       "      <td>Humphreys, Colby R (11) (OF)</td>\n",
       "      <td>1:25.50</td>\n",
       "      <td>1:22.39</td>\n",
       "      <td>Humphreys, Colby R</td>\n",
       "      <td>11</td>\n",
       "      <td>OF</td>\n",
       "      <td>85.5</td>\n",
       "      <td>82.39</td>\n",
       "      <td>1</td>\n",
       "    </tr>\n",
       "    <tr>\n",
       "      <th>4</th>\n",
       "      <td>2021</td>\n",
       "      <td>week5</td>\n",
       "      <td>Event 1 - Boys 12U 100M Individual Medley</td>\n",
       "      <td>5.</td>\n",
       "      <td>Humphreys, Chase P (11) (OF)</td>\n",
       "      <td>1:24.18</td>\n",
       "      <td>1:22.40</td>\n",
       "      <td>Humphreys, Chase P</td>\n",
       "      <td>11</td>\n",
       "      <td>OF</td>\n",
       "      <td>84.18</td>\n",
       "      <td>82.4</td>\n",
       "      <td>1</td>\n",
       "    </tr>\n",
       "  </tbody>\n",
       "</table>\n",
       "</div>"
      ],
      "text/plain": [
       "   year   week                                      event rank   \n",
       "0  2021  week5  Event 1 - Boys 12U 100M Individual Medley   1.  \\\n",
       "1  2021  week5  Event 1 - Boys 12U 100M Individual Medley   2.   \n",
       "2  2021  week5  Event 1 - Boys 12U 100M Individual Medley   3.   \n",
       "3  2021  week5  Event 1 - Boys 12U 100M Individual Medley   4.   \n",
       "4  2021  week5  Event 1 - Boys 12U 100M Individual Medley   5.   \n",
       "\n",
       "                        swimmer     seed    final         swimmer_name   \n",
       "0       Cohn, Naveh N (12) (OF)  1:14.40  1:13.46       Cohn, Naveh N   \\\n",
       "1      Fry, Patrick M (12) (RH)  1:21.94  1:21.41      Fry, Patrick M    \n",
       "2       Fry, Daniel P (10) (RH)  1:23.62  1:21.75       Fry, Daniel P    \n",
       "3  Humphreys, Colby R (11) (OF)  1:25.50  1:22.39  Humphreys, Colby R    \n",
       "4  Humphreys, Chase P (11) (OF)  1:24.18  1:22.40  Humphreys, Chase P    \n",
       "\n",
       "  swimmer_age swimmer_team seed_seconds final_seconds event_no  \n",
       "0         12            OF         74.4         73.46       1   \n",
       "1         12            RH        81.94         81.41       1   \n",
       "2         10            RH        83.62         81.75       1   \n",
       "3         11            OF         85.5         82.39       1   \n",
       "4         11            OF        84.18          82.4       1   "
      ]
     },
     "execution_count": 296,
     "metadata": {},
     "output_type": "execute_result"
    }
   ],
   "source": [
    "df.head()"
   ]
  },
  {
   "cell_type": "code",
   "execution_count": 297,
   "metadata": {},
   "outputs": [],
   "source": [
    "#export to csv with | delimited\n",
    "df.to_csv(filename_output,sep='|', index=False) # Use pipe to seperate data\n"
   ]
  },
  {
   "cell_type": "code",
   "execution_count": 298,
   "metadata": {},
   "outputs": [
    {
     "data": {
      "text/plain": [
       "swimmer_age  swimmer_team\n",
       "10           OF              19\n",
       "             RH              23\n",
       "11           OF              13\n",
       "             RH              17\n",
       "12           OF              23\n",
       "             RH              18\n",
       "13           OF              19\n",
       "             RH              28\n",
       "14           OF              17\n",
       "             RH               8\n",
       "15           OF              13\n",
       "             RH               6\n",
       "16           OF              11\n",
       "             RH               4\n",
       "17           OF               5\n",
       "             RH               9\n",
       "18           OF               7\n",
       "             RH              17\n",
       "7            OF              10\n",
       "             RH              18\n",
       "8            OF              20\n",
       "             RH              11\n",
       "9            OF              11\n",
       "             RH               7\n",
       "Jorie G      6 (RH            1\n",
       "Name: swimmer_name, dtype: int64"
      ]
     },
     "execution_count": 298,
     "metadata": {},
     "output_type": "execute_result"
    }
   ],
   "source": [
    "#counting swimmer by team/age\n",
    "df.groupby(['swimmer_age', 'swimmer_team'])['swimmer_name'].count()"
   ]
  },
  {
   "cell_type": "code",
   "execution_count": null,
   "metadata": {},
   "outputs": [],
   "source": []
  }
 ],
 "metadata": {
  "kernelspec": {
   "display_name": "Python 3",
   "language": "python",
   "name": "python3"
  },
  "language_info": {
   "codemirror_mode": {
    "name": "ipython",
    "version": 3
   },
   "file_extension": ".py",
   "mimetype": "text/x-python",
   "name": "python",
   "nbconvert_exporter": "python",
   "pygments_lexer": "ipython3",
   "version": "3.10.10"
  }
 },
 "nbformat": 4,
 "nbformat_minor": 2
}
