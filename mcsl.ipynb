{
 "cells": [
  {
   "cell_type": "markdown",
   "metadata": {},
   "source": [
    "# Processing MCSL summer swimming result"
   ]
  },
  {
   "cell_type": "code",
   "execution_count": 1,
   "metadata": {
    "tags": []
   },
   "outputs": [],
   "source": [
    "from bs4 import BeautifulSoup\n",
    "import csv\n",
    "import os\n",
    "import glob\n",
    "import pandas as pd"
   ]
  },
  {
   "cell_type": "code",
   "execution_count": 2,
   "metadata": {
    "tags": []
   },
   "outputs": [
    {
     "name": "stdout",
     "output_type": "stream",
     "text": [
      "./data/2019/week1/WvEW.html\n"
     ]
    }
   ],
   "source": [
    "#file/folder\n",
    "htmlfile = \"./data/2019/week1\"\n",
    "filename = 'WvEW.html'\n",
    "path = os.path.join(htmlfile, f'{filename}')\n",
    "print(path)"
   ]
  },
  {
   "cell_type": "code",
   "execution_count": 3,
   "metadata": {
    "tags": []
   },
   "outputs": [],
   "source": [
    "with open(path, 'r') as f:\n",
    "    contents = f.read()\n",
    "    soup = BeautifulSoup(contents, 'lxml')\n",
    "\n",
    "#print(soup.prettify())"
   ]
  },
  {
   "cell_type": "code",
   "execution_count": 4,
   "metadata": {},
   "outputs": [],
   "source": [
    "htmlfile_list = htmlfile.split('/')\n",
    "year = htmlfile_list[2]\n",
    "week = htmlfile_list[3]"
   ]
  },
  {
   "cell_type": "code",
   "execution_count": 5,
   "metadata": {
    "tags": []
   },
   "outputs": [],
   "source": [
    "table = soup.find(\"table\")\n",
    "cols = table.findAll(\"td\")\n",
    "\n",
    "content = []\n",
    "result = []\n",
    "record = []\n",
    "\n",
    "for td in cols:\n",
    "    try:\n",
    "        text = ''.join(td.find(text=True))\n",
    "        content.append(text)\n",
    "    except: pass\n",
    "\n",
    "event = content[0]\n",
    "\n",
    "#loop the rest\n",
    "for line in content:\n",
    "    if line[0:5] == 'Event':\n",
    "        event = line\n",
    "    else:\n",
    "        #start of new record, when it sees rank\n",
    "        if (line[1:2] == '.' and len(line)==2) or (line[2:3] == '.' and len(line) == 3):\n",
    "            if result:\n",
    "                record.append(result)\n",
    "                result = []\n",
    "            result.append(year)\n",
    "            result.append(week)\n",
    "            result.append(event)\n",
    "            result.append(line)\n",
    "        else:\n",
    "            result.append(line)\n",
    "\n"
   ]
  },
  {
   "cell_type": "code",
   "execution_count": 6,
   "metadata": {
    "tags": []
   },
   "outputs": [],
   "source": [
    "#take out relay record, all individual records has 7 columns\n",
    "individual_record = []\n",
    "for l in record:\n",
    "    if len(l)==7:\n",
    "        #print(l)\n",
    "        individual_record.append(l)\n",
    "        "
   ]
  },
  {
   "cell_type": "code",
   "execution_count": 7,
   "metadata": {},
   "outputs": [],
   "source": [
    "df = pd.DataFrame(individual_record, columns =['year', 'week', 'event', 'rank', 'swimmer', 'seed', 'final']) "
   ]
  },
  {
   "cell_type": "code",
   "execution_count": 8,
   "metadata": {},
   "outputs": [
    {
     "data": {
      "text/html": [
       "<div>\n",
       "<style scoped>\n",
       "    .dataframe tbody tr th:only-of-type {\n",
       "        vertical-align: middle;\n",
       "    }\n",
       "\n",
       "    .dataframe tbody tr th {\n",
       "        vertical-align: top;\n",
       "    }\n",
       "\n",
       "    .dataframe thead th {\n",
       "        text-align: right;\n",
       "    }\n",
       "</style>\n",
       "<table border=\"1\" class=\"dataframe\">\n",
       "  <thead>\n",
       "    <tr style=\"text-align: right;\">\n",
       "      <th></th>\n",
       "      <th>year</th>\n",
       "      <th>week</th>\n",
       "      <th>event</th>\n",
       "      <th>rank</th>\n",
       "      <th>swimmer</th>\n",
       "      <th>seed</th>\n",
       "      <th>final</th>\n",
       "    </tr>\n",
       "  </thead>\n",
       "  <tbody>\n",
       "    <tr>\n",
       "      <th>0</th>\n",
       "      <td>2019</td>\n",
       "      <td>week1</td>\n",
       "      <td>Event 1 - Boys 12U 100M Individual Medley</td>\n",
       "      <td>1.</td>\n",
       "      <td>Manning, Jackson R (12) (W)</td>\n",
       "      <td>1:39.31</td>\n",
       "      <td>1:30.47</td>\n",
       "    </tr>\n",
       "    <tr>\n",
       "      <th>1</th>\n",
       "      <td>2019</td>\n",
       "      <td>week1</td>\n",
       "      <td>Event 1 - Boys 12U 100M Individual Medley</td>\n",
       "      <td>2.</td>\n",
       "      <td>Chu-Roxas, Aidan (12) (EW)</td>\n",
       "      <td>1:35.84</td>\n",
       "      <td>1:34.97</td>\n",
       "    </tr>\n",
       "  </tbody>\n",
       "</table>\n",
       "</div>"
      ],
      "text/plain": [
       "   year   week                                      event rank  \\\n",
       "0  2019  week1  Event 1 - Boys 12U 100M Individual Medley   1.   \n",
       "1  2019  week1  Event 1 - Boys 12U 100M Individual Medley   2.   \n",
       "\n",
       "                       swimmer     seed    final  \n",
       "0  Manning, Jackson R (12) (W)  1:39.31  1:30.47  \n",
       "1   Chu-Roxas, Aidan (12) (EW)  1:35.84  1:34.97  "
      ]
     },
     "execution_count": 8,
     "metadata": {},
     "output_type": "execute_result"
    }
   ],
   "source": [
    "df.head(2)"
   ]
  },
  {
   "cell_type": "code",
   "execution_count": 9,
   "metadata": {},
   "outputs": [],
   "source": [
    "#splitting swimmer colunn into 3\n",
    "df[['swimmer_name', 'swimmer_age', 'swimmer_team']] = df['swimmer'].str.split(pat='(', expand=True)\n",
    "\n",
    "#dropping progoma; swimmer column\n",
    "del df['swimmer']"
   ]
  },
  {
   "cell_type": "code",
   "execution_count": 10,
   "metadata": {},
   "outputs": [],
   "source": [
    "#remove ')' from age and team\n",
    "df['swimmer_age'] = df['swimmer_age'].apply(lambda x:x.replace(')',''))\n",
    "df['swimmer_team'] = df['swimmer_team'].apply(lambda x:x.replace(')',''))"
   ]
  },
  {
   "cell_type": "code",
   "execution_count": 11,
   "metadata": {},
   "outputs": [
    {
     "data": {
      "text/html": [
       "<div>\n",
       "<style scoped>\n",
       "    .dataframe tbody tr th:only-of-type {\n",
       "        vertical-align: middle;\n",
       "    }\n",
       "\n",
       "    .dataframe tbody tr th {\n",
       "        vertical-align: top;\n",
       "    }\n",
       "\n",
       "    .dataframe thead th {\n",
       "        text-align: right;\n",
       "    }\n",
       "</style>\n",
       "<table border=\"1\" class=\"dataframe\">\n",
       "  <thead>\n",
       "    <tr style=\"text-align: right;\">\n",
       "      <th></th>\n",
       "      <th>0</th>\n",
       "      <th>1</th>\n",
       "    </tr>\n",
       "  </thead>\n",
       "  <tbody>\n",
       "    <tr>\n",
       "      <th>year</th>\n",
       "      <td>2019</td>\n",
       "      <td>2019</td>\n",
       "    </tr>\n",
       "    <tr>\n",
       "      <th>week</th>\n",
       "      <td>week1</td>\n",
       "      <td>week1</td>\n",
       "    </tr>\n",
       "    <tr>\n",
       "      <th>event</th>\n",
       "      <td>Event 1 - Boys 12U 100M Individual Medley</td>\n",
       "      <td>Event 1 - Boys 12U 100M Individual Medley</td>\n",
       "    </tr>\n",
       "    <tr>\n",
       "      <th>rank</th>\n",
       "      <td>1.</td>\n",
       "      <td>2.</td>\n",
       "    </tr>\n",
       "    <tr>\n",
       "      <th>seed</th>\n",
       "      <td>1:39.31</td>\n",
       "      <td>1:35.84</td>\n",
       "    </tr>\n",
       "    <tr>\n",
       "      <th>final</th>\n",
       "      <td>1:30.47</td>\n",
       "      <td>1:34.97</td>\n",
       "    </tr>\n",
       "    <tr>\n",
       "      <th>swimmer_name</th>\n",
       "      <td>Manning, Jackson R</td>\n",
       "      <td>Chu-Roxas, Aidan</td>\n",
       "    </tr>\n",
       "    <tr>\n",
       "      <th>swimmer_age</th>\n",
       "      <td>12</td>\n",
       "      <td>12</td>\n",
       "    </tr>\n",
       "    <tr>\n",
       "      <th>swimmer_team</th>\n",
       "      <td>W</td>\n",
       "      <td>EW</td>\n",
       "    </tr>\n",
       "  </tbody>\n",
       "</table>\n",
       "</div>"
      ],
      "text/plain": [
       "                                                      0  \\\n",
       "year                                               2019   \n",
       "week                                              week1   \n",
       "event         Event 1 - Boys 12U 100M Individual Medley   \n",
       "rank                                                 1.   \n",
       "seed                                            1:39.31   \n",
       "final                                           1:30.47   \n",
       "swimmer_name                        Manning, Jackson R    \n",
       "swimmer_age                                         12    \n",
       "swimmer_team                                          W   \n",
       "\n",
       "                                                      1  \n",
       "year                                               2019  \n",
       "week                                              week1  \n",
       "event         Event 1 - Boys 12U 100M Individual Medley  \n",
       "rank                                                 2.  \n",
       "seed                                            1:35.84  \n",
       "final                                           1:34.97  \n",
       "swimmer_name                          Chu-Roxas, Aidan   \n",
       "swimmer_age                                         12   \n",
       "swimmer_team                                         EW  "
      ]
     },
     "execution_count": 11,
     "metadata": {},
     "output_type": "execute_result"
    }
   ],
   "source": [
    "df.head(2).T"
   ]
  },
  {
   "cell_type": "code",
   "execution_count": null,
   "metadata": {},
   "outputs": [],
   "source": []
  }
 ],
 "metadata": {
  "kernelspec": {
   "display_name": "Python 3",
   "language": "python",
   "name": "python3"
  },
  "language_info": {
   "codemirror_mode": {
    "name": "ipython",
    "version": 3
   },
   "file_extension": ".py",
   "mimetype": "text/x-python",
   "name": "python",
   "nbconvert_exporter": "python",
   "pygments_lexer": "ipython3",
   "version": "3.8.8"
  }
 },
 "nbformat": 4,
 "nbformat_minor": 2
}
